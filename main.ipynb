{
 "metadata": {
  "language_info": {
   "codemirror_mode": {
    "name": "ipython",
    "version": 3
   },
   "file_extension": ".py",
   "mimetype": "text/x-python",
   "name": "python",
   "nbconvert_exporter": "python",
   "pygments_lexer": "ipython3",
   "version": "3.8.5-final"
  },
  "orig_nbformat": 2,
  "kernelspec": {
   "name": "Python 3.8.5 64-bit",
   "display_name": "Python 3.8.5 64-bit",
   "metadata": {
    "interpreter": {
     "hash": "a1f1a67323935e464f68d0551c28dd1ebfc7b19d5980075b3ae866f7af7240e2"
    }
   }
  }
 },
 "nbformat": 4,
 "nbformat_minor": 2,
 "cells": [
  {
   "cell_type": "code",
   "execution_count": 1,
   "metadata": {},
   "outputs": [],
   "source": [
    "from __future__ import print_function\n",
    "import torch"
   ]
  },
  {
   "cell_type": "markdown",
   "metadata": {},
   "source": [
    "# Different initialization methods for tensors"
   ]
  },
  {
   "cell_type": "code",
   "execution_count": 6,
   "metadata": {},
   "outputs": [
    {
     "output_type": "stream",
     "name": "stdout",
     "text": [
      "tensor([[1.9284e+31, 3.2314e-18, 6.5987e-07],\n        [2.5788e-09, 6.3006e-10, 1.0871e-05],\n        [5.2671e-08, 8.4646e-07, 2.7597e-06],\n        [8.3902e-07, 2.4178e-18, 2.6302e+20],\n        [6.1949e-04, 1.0256e-08, 2.5783e-09]])\n"
     ]
    }
   ],
   "source": [
    "x = torch.empty(5, 3)\n",
    "print(x)"
   ]
  },
  {
   "cell_type": "code",
   "execution_count": 7,
   "metadata": {},
   "outputs": [
    {
     "output_type": "stream",
     "name": "stdout",
     "text": [
      "tensor([[0.7500, 0.1905, 0.6655],\n        [0.7723, 0.0047, 0.9472],\n        [0.1233, 0.9770, 0.3221],\n        [0.4774, 0.4424, 0.9220],\n        [0.4394, 0.6153, 0.8627]])\n"
     ]
    }
   ],
   "source": [
    "x = torch.rand(5, 3)\n",
    "print(x)"
   ]
  },
  {
   "cell_type": "code",
   "execution_count": 8,
   "metadata": {},
   "outputs": [
    {
     "output_type": "stream",
     "name": "stdout",
     "text": [
      "tensor([[0, 0, 0],\n        [0, 0, 0],\n        [0, 0, 0],\n        [0, 0, 0],\n        [0, 0, 0]])\n"
     ]
    }
   ],
   "source": [
    "x = torch.zeros(5,3, dtype=torch.long)\n",
    "print(x)"
   ]
  },
  {
   "cell_type": "code",
   "execution_count": 10,
   "metadata": {},
   "outputs": [
    {
     "output_type": "stream",
     "name": "stdout",
     "text": [
      "tensor([0.5000, 0.5500])\n"
     ]
    }
   ],
   "source": [
    "x = torch.tensor([0.5, 0.55])\n",
    "print(x)"
   ]
  },
  {
   "cell_type": "markdown",
   "metadata": {},
   "source": [
    "## Create tensor based on tensor\n",
    "You can override params, like from double to float, size will match"
   ]
  },
  {
   "cell_type": "code",
   "execution_count": 11,
   "metadata": {},
   "outputs": [
    {
     "output_type": "stream",
     "name": "stdout",
     "text": [
      "tensor([[1., 1., 1.],\n        [1., 1., 1.],\n        [1., 1., 1.],\n        [1., 1., 1.],\n        [1., 1., 1.]], dtype=torch.float64)\n"
     ]
    }
   ],
   "source": [
    "x = x.new_ones(5, 3, dtype=torch.double)      # new_* methods take in sizes\n",
    "print(x)"
   ]
  },
  {
   "cell_type": "code",
   "execution_count": 12,
   "metadata": {},
   "outputs": [
    {
     "output_type": "stream",
     "name": "stdout",
     "text": [
      "tensor([[ 0.9813,  1.3686,  0.2253],\n        [-2.2879, -1.7084, -0.6459],\n        [-1.9560, -0.4186, -1.4445],\n        [-0.2139,  1.8385,  0.1303],\n        [ 0.0458, -0.5976, -0.0768]])\n"
     ]
    }
   ],
   "source": [
    "x = torch.randn_like(x, dtype=torch.float)    # override dtype!\n",
    "print(x)                                      # result has the same size"
   ]
  },
  {
   "cell_type": "code",
   "execution_count": 14,
   "metadata": {},
   "outputs": [
    {
     "output_type": "stream",
     "name": "stdout",
     "text": [
      "torch.Size([5, 3])\n"
     ]
    }
   ],
   "source": [
    "print(x.size()) # this is a tuple supporting tuple operations"
   ]
  },
  {
   "cell_type": "markdown",
   "metadata": {},
   "source": [
    "# Operations"
   ]
  },
  {
   "cell_type": "code",
   "execution_count": 16,
   "metadata": {},
   "outputs": [
    {
     "output_type": "stream",
     "name": "stdout",
     "text": [
      "tensor([[0.0010, 0.4292, 0.7214],\n        [0.9278, 0.2184, 0.4676],\n        [0.9819, 0.3264, 0.7127],\n        [0.8208, 0.9801, 0.2135],\n        [0.8391, 0.6467, 0.0128]])\ntensor([[ 0.9823,  1.7978,  0.9467],\n        [-1.3601, -1.4900, -0.1783],\n        [-0.9740, -0.0923, -0.7318],\n        [ 0.6069,  2.8186,  0.3439],\n        [ 0.8849,  0.0491, -0.0639]])\n"
     ]
    }
   ],
   "source": [
    "y = torch.rand(5,3) # ceates 5 rows, 3 columns with random values\n",
    "print(y)\n",
    "print(x+y) # values of x and y added up"
   ]
  },
  {
   "cell_type": "code",
   "execution_count": 17,
   "metadata": {},
   "outputs": [
    {
     "output_type": "stream",
     "name": "stdout",
     "text": [
      "tensor([[ 0.9823,  1.7978,  0.9467],\n        [-1.3601, -1.4900, -0.1783],\n        [-0.9740, -0.0923, -0.7318],\n        [ 0.6069,  2.8186,  0.3439],\n        [ 0.8849,  0.0491, -0.0639]])\n"
     ]
    }
   ],
   "source": [
    "print(torch.add(x,y)) # should yield the same result"
   ]
  },
  {
   "cell_type": "markdown",
   "metadata": {},
   "source": [
    "## Providing output tensor"
   ]
  },
  {
   "cell_type": "code",
   "execution_count": 20,
   "metadata": {},
   "outputs": [
    {
     "output_type": "stream",
     "name": "stdout",
     "text": [
      "tensor([[1.1161, 1.1123, 1.0947],\n        [1.0978, 0.6209, 1.4541],\n        [1.5137, 1.5147, 0.7905],\n        [0.4728, 0.5148, 0.8523],\n        [1.1155, 0.7982, 0.2832]])\n"
     ]
    }
   ],
   "source": [
    "result = torch.empty(5,3) #\n",
    "x = torch.rand(5,3)\n",
    "y = torch.rand(5,3)\n",
    "torch.add(x, y, out=result)\n",
    "print(result)"
   ]
  },
  {
   "cell_type": "code",
   "execution_count": 24,
   "metadata": {},
   "outputs": [
    {
     "output_type": "stream",
     "name": "stdout",
     "text": [
      "tensor([[0.7251, 0.6058, 0.6864],\n        [0.8911, 0.1436, 0.8933],\n        [0.5411, 0.8508, 0.2530],\n        [0.4506, 0.1460, 0.1152],\n        [0.4661, 0.1639, 0.0145]])\ntensor([[1.1161, 1.1123, 1.0947],\n        [1.0978, 0.6209, 1.4541],\n        [1.5137, 1.5147, 0.7905],\n        [0.4728, 0.5148, 0.8523],\n        [1.1155, 0.7982, 0.2832]])\ntensor([[1.8411, 1.7181, 1.7811],\n        [1.9889, 0.7645, 2.3474],\n        [2.0548, 2.3655, 1.0434],\n        [0.9234, 0.6608, 0.9675],\n        [1.5816, 0.9621, 0.2977]])\n"
     ]
    }
   ],
   "source": [
    "print(x)\n",
    "print(y)\n",
    "y.add_(x) # in place addition\n",
    "print(y)\n",
    "# Any operation that mutates a tensor in-place is post-fixed with an _. For example: x.copy_(y), x.t_(), will change x."
   ]
  },
  {
   "cell_type": "code",
   "execution_count": 26,
   "metadata": {},
   "outputs": [
    {
     "output_type": "stream",
     "name": "stdout",
     "text": [
      "tensor([0.6058, 0.1436, 0.8508, 0.1460, 0.1639])\n"
     ]
    }
   ],
   "source": [
    "print(x[:, 1]) # all rows in column index: 1"
   ]
  },
  {
   "cell_type": "markdown",
   "metadata": {},
   "source": [
    "## Resize tensor"
   ]
  },
  {
   "cell_type": "code",
   "execution_count": 28,
   "metadata": {},
   "outputs": [
    {
     "output_type": "stream",
     "name": "stdout",
     "text": [
      "tensor([[ 0.7155,  1.0878,  0.6631, -0.6212],\n        [ 1.1535, -1.0651, -1.0404,  0.4767],\n        [-0.7174,  0.9253,  0.2814, -1.9207],\n        [-0.0461,  1.3341,  0.2049, -0.6543]])\n"
     ]
    }
   ],
   "source": [
    "x = torch.randn(4, 4)\n",
    "print(x)"
   ]
  },
  {
   "cell_type": "code",
   "execution_count": 30,
   "metadata": {},
   "outputs": [
    {
     "output_type": "stream",
     "name": "stdout",
     "text": [
      "torch.Size([4, 4]) torch.Size([16]) torch.Size([2, 8])\ntensor([[ 0.7155,  1.0878,  0.6631, -0.6212],\n        [ 1.1535, -1.0651, -1.0404,  0.4767],\n        [-0.7174,  0.9253,  0.2814, -1.9207],\n        [-0.0461,  1.3341,  0.2049, -0.6543]])\ntensor([ 0.7155,  1.0878,  0.6631, -0.6212,  1.1535, -1.0651, -1.0404,  0.4767,\n        -0.7174,  0.9253,  0.2814, -1.9207, -0.0461,  1.3341,  0.2049, -0.6543])\ntensor([[ 0.7155,  1.0878,  0.6631, -0.6212,  1.1535, -1.0651, -1.0404,  0.4767],\n        [-0.7174,  0.9253,  0.2814, -1.9207, -0.0461,  1.3341,  0.2049, -0.6543]])\n"
     ]
    }
   ],
   "source": [
    "y = x.view(16)\n",
    "z = x.view(-1, 8)  # the size -1 is inferred/deduced from other dimensions\n",
    "\n",
    "print(x.size(), y.size(), z.size())\n",
    "print(x)\n",
    "print(y)\n",
    "print(z)"
   ]
  },
  {
   "cell_type": "code",
   "execution_count": 31,
   "metadata": {},
   "outputs": [
    {
     "output_type": "stream",
     "name": "stdout",
     "text": [
      "tensor([0.7410])\n0.7409797310829163\n"
     ]
    }
   ],
   "source": [
    "x = torch.randn(1)\n",
    "print(x)\n",
    "print(x.item())"
   ]
  },
  {
   "cell_type": "markdown",
   "metadata": {},
   "source": [
    "## NumPy array conversion"
   ]
  },
  {
   "cell_type": "code",
   "execution_count": 32,
   "metadata": {},
   "outputs": [
    {
     "output_type": "stream",
     "name": "stdout",
     "text": [
      "tensor([1., 1., 1., 1., 1.])\n"
     ]
    }
   ],
   "source": [
    "a = torch.ones(5)\n",
    "print(a)"
   ]
  },
  {
   "cell_type": "code",
   "execution_count": 35,
   "metadata": {},
   "outputs": [
    {
     "output_type": "stream",
     "name": "stdout",
     "text": [
      "[1. 1. 1. 1. 1.]\n"
     ]
    },
    {
     "output_type": "execute_result",
     "data": {
      "text/plain": [
       "array([2., 2., 2., 2., 2.], dtype=float32)"
      ]
     },
     "metadata": {},
     "execution_count": 35
    }
   ],
   "source": [
    "b = a.numpy()\n",
    "print(b)\n",
    "b+1 # for funs"
   ]
  },
  {
   "cell_type": "code",
   "execution_count": 36,
   "metadata": {},
   "outputs": [
    {
     "output_type": "stream",
     "name": "stdout",
     "text": [
      "tensor([2., 2., 2., 2., 2.])\n[2. 2. 2. 2. 2.]\n"
     ]
    }
   ],
   "source": [
    "a.add_(1)\n",
    "print(a)\n",
    "print(b)"
   ]
  },
  {
   "cell_type": "markdown",
   "metadata": {},
   "source": [
    "## Convert NumPy Array to Torch Tensor"
   ]
  },
  {
   "cell_type": "code",
   "execution_count": 37,
   "metadata": {},
   "outputs": [
    {
     "output_type": "stream",
     "name": "stdout",
     "text": [
      "[2. 2. 2. 2. 2.]\ntensor([2., 2., 2., 2., 2.], dtype=torch.float64)\n"
     ]
    }
   ],
   "source": [
    "import numpy as np\n",
    "a = np.ones(5)\n",
    "b = torch.from_numpy(a)\n",
    "np.add(a, 1, out=a)\n",
    "print(a)\n",
    "print(b)"
   ]
  },
  {
   "cell_type": "markdown",
   "metadata": {},
   "source": [
    "# CUDA Tensors\n",
    "Tensors can be moved onto any device using the ```.to``` method.\n",
    "\n",
    "Let us run this cell only if CUDA is available.\n",
    "We will use ``torch.device`` objects to move tensors in and out of GPU"
   ]
  },
  {
   "cell_type": "code",
   "execution_count": 40,
   "metadata": {},
   "outputs": [
    {
     "output_type": "execute_result",
     "data": {
      "text/plain": [
       "False"
      ]
     },
     "metadata": {},
     "execution_count": 40
    }
   ],
   "source": [
    "if torch.cuda.is_available():\n",
    "    device = torch.device(\"cuda\")          # a CUDA device object\n",
    "    y = torch.ones_like(x, device=device)  # directly create a tensor on GPU\n",
    "    x = x.to(device)                       # or just use strings ``.to(\"cuda\")``\n",
    "    z = x + y\n",
    "    print(z)\n",
    "    print(z.to(\"cpu\", torch.double))       # ``.to`` can also change dtype together!\n",
    "torch.cuda.is_available()"
   ]
  },
  {
   "cell_type": "code",
   "execution_count": null,
   "metadata": {},
   "outputs": [],
   "source": []
  }
 ]
}